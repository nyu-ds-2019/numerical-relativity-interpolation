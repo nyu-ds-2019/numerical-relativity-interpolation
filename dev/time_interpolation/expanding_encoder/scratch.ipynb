{
 "cells": [
  {
   "cell_type": "code",
   "execution_count": 1,
   "metadata": {},
   "outputs": [],
   "source": [
    "import numpy as np\n",
    "import h5py"
   ]
  },
  {
   "cell_type": "code",
   "execution_count": 3,
   "metadata": {},
   "outputs": [],
   "source": [
    "file = h5py.File('/scratch/ns4486/numerical-relativity-interpolation/Proca_fiducial_scaled_cropped.hdf5', 'r')\n",
    "\n",
    "input_np = np.array(file['Train']['input'])\n",
    "target_np = np.array(file['Train']['target'])"
   ]
  },
  {
   "cell_type": "code",
   "execution_count": 16,
   "metadata": {},
   "outputs": [
    {
     "data": {
      "text/plain": [
       "(1, 1, 72, 72, 72)"
      ]
     },
     "execution_count": 16,
     "metadata": {},
     "output_type": "execute_result"
    }
   ],
   "source": [
    "x_mean = np.mean(input_np, axis=tuple(range(input_np.ndim-3)), keepdims=True)\n",
    "x_std = np.std(input_np, axis=tuple(range(input_np.ndim-3)), keepdims=True)\n",
    "x_mean.shape"
   ]
  },
  {
   "cell_type": "code",
   "execution_count": 32,
   "metadata": {},
   "outputs": [
    {
     "data": {
      "text/plain": [
       "(407, 2, 72, 72, 72)"
      ]
     },
     "execution_count": 32,
     "metadata": {},
     "output_type": "execute_result"
    }
   ],
   "source": [
    "test = np.divide(input_np - x_mean, x_std, out=np.zeros_like(input_np), where=x_std!=0)\n",
    "test.shape"
   ]
  },
  {
   "cell_type": "code",
   "execution_count": 24,
   "metadata": {},
   "outputs": [
    {
     "data": {
      "text/plain": [
       "(0.0, 0.9376054100302021, 0.010276341051667375)"
      ]
     },
     "execution_count": 24,
     "metadata": {},
     "output_type": "execute_result"
    }
   ],
   "source": [
    "x_std.min(), x_std.max(), x_std.mean()"
   ]
  },
  {
   "cell_type": "code",
   "execution_count": 31,
   "metadata": {},
   "outputs": [
    {
     "name": "stdout",
     "output_type": "stream",
     "text": [
      "35 35 35\n",
      "0.0\n",
      "35 35 36\n",
      "0.0\n",
      "35 36 35\n",
      "0.0\n",
      "35 36 36\n",
      "0.0\n",
      "36 35 35\n",
      "0.0\n",
      "36 35 36\n",
      "0.0\n",
      "36 36 35\n",
      "0.0\n",
      "36 36 36\n",
      "0.0\n"
     ]
    }
   ],
   "source": [
    "for i in range(72):\n",
    "    for j in range(72):\n",
    "        for k in range(72):\n",
    "            if x_std[0, 0, i, j, k] == 0:\n",
    "                print(i, j, k)\n",
    "                print(x_mean[0, 0, i, j, k])"
   ]
  },
  {
   "cell_type": "code",
   "execution_count": 29,
   "metadata": {},
   "outputs": [
    {
     "data": {
      "text/plain": [
       "array([0., 0., 0., 0., 0., 0., 0., 0.])"
      ]
     },
     "execution_count": 29,
     "metadata": {},
     "output_type": "execute_result"
    }
   ],
   "source": [
    "x_std[x_std == 0]"
   ]
  },
  {
   "cell_type": "code",
   "execution_count": 25,
   "metadata": {},
   "outputs": [
    {
     "data": {
      "text/plain": [
       "183995"
      ]
     },
     "execution_count": 25,
     "metadata": {},
     "output_type": "execute_result"
    }
   ],
   "source": [
    "np.argmin(x_std)"
   ]
  },
  {
   "cell_type": "code",
   "execution_count": 27,
   "metadata": {},
   "outputs": [],
   "source": [
    "def argmin_lastNaxes(A, N):\n",
    "    s = A.shape\n",
    "    new_shp = s[:-N] + (np.prod(s[-N:]),)\n",
    "    max_idx = A.reshape(new_shp).argmin(-1)\n",
    "    return np.unravel_index(max_idx, s[-N:])"
   ]
  },
  {
   "cell_type": "code",
   "execution_count": 28,
   "metadata": {},
   "outputs": [
    {
     "data": {
      "text/plain": [
       "(array([[35]]), array([[35]]), array([[35]]))"
      ]
     },
     "execution_count": 28,
     "metadata": {},
     "output_type": "execute_result"
    }
   ],
   "source": [
    "argmin_lastNaxes(x_std, 3)"
   ]
  },
  {
   "cell_type": "code",
   "execution_count": 17,
   "metadata": {},
   "outputs": [
    {
     "name": "stderr",
     "output_type": "stream",
     "text": [
      "<ipython-input-17-171be96ac4d2>:1: RuntimeWarning: invalid value encountered in true_divide\n",
      "  test = (input_np - x_mean)/(x_std)\n"
     ]
    },
    {
     "data": {
      "text/plain": [
       "(407, 2, 72, 72, 72)"
      ]
     },
     "execution_count": 17,
     "metadata": {},
     "output_type": "execute_result"
    }
   ],
   "source": [
    "test = (input_np - x_mean)/(x_std) \n",
    "test.shape"
   ]
  },
  {
   "cell_type": "code",
   "execution_count": 1,
   "metadata": {},
   "outputs": [],
   "source": [
    "import torch\n",
    "from torch import nn\n",
    "import torch.nn.functional as F\n",
    "\n",
    "\n",
    "class ConvBlock(nn.Module):\n",
    "    \n",
    "    def __init__(self, depth, num_layers, non_linearity):\n",
    "        super(ConvBlock, self).__init__()\n",
    "        \n",
    "        self.depth = depth\n",
    "        self.non_linearity = non_linearity\n",
    "        \n",
    "        self.in_channels = 16 * (2 ** int((num_layers - depth) / 2))\n",
    "        self.out_channels = 16 * (2 ** int((num_layers - depth - 1) / 2)) if depth != num_layers else 1\n",
    "        \n",
    "#         print(self.in_channels, self.out_channels)\n",
    "        \n",
    "        # reduces input shape by 4\n",
    "        self.conv = nn.Conv3d(\n",
    "            in_channels = self.in_channels,\n",
    "            out_channels = self.out_channels,\n",
    "            kernel_size = (5, 5, 5),\n",
    "            stride = (1, 1, 1),\n",
    "            padding = (1, 1, 1)\n",
    "        )\n",
    "        \n",
    "        self.bn = nn.BatchNorm3d(self.out_channels, affine = True)\n",
    "        \n",
    "        self.maxpool = nn.MaxPool3d(\n",
    "            kernel_size = (3, 3, 3),\n",
    "            stride = (1, 1, 1)\n",
    "        )\n",
    "    \n",
    "    def forward(self, x):\n",
    "        x = self.maxpool(\n",
    "                self.non_linearity(\n",
    "                    self.bn(\n",
    "                        self.conv(x)\n",
    "                    )\n",
    "                )\n",
    "            )\n",
    "        \n",
    "        return x\n",
    "\n",
    "\n",
    "class ConvInverseBlock(nn.Module):\n",
    "    \n",
    "    def __init__(self, depth, original_input_size, non_linearity):\n",
    "        super(ConvInverseBlock, self).__init__()\n",
    "        \n",
    "        self.depth = depth\n",
    "        self.non_linearity = non_linearity\n",
    "        \n",
    "        self.in_channels = 16 * (2 ** int((depth - 2) / 2)) if depth != 1 else 1\n",
    "        self.out_channels = 16 * (2 ** int((depth - 1) / 2))\n",
    "        \n",
    "        upsample_size = original_input_size + 4 * (depth - 1) + 6\n",
    "        \n",
    "#         print(upsample_size)\n",
    "        \n",
    "        self.upsample = nn.Upsample(\n",
    "            size = upsample_size,\n",
    "            mode = 'nearest'\n",
    "        )\n",
    "        \n",
    "        self.conv_r = nn.Conv3d(\n",
    "            in_channels = self.in_channels,\n",
    "            out_channels = self.out_channels,\n",
    "            kernel_size = (5, 5, 5),\n",
    "            stride = (1, 1, 1),\n",
    "            padding = (1, 1, 1)\n",
    "        )\n",
    "        \n",
    "        self.bn = nn.BatchNorm3d(self.out_channels, affine = True)\n",
    "\n",
    "    \n",
    "    def forward(self, x):\n",
    "        x = self.non_linearity(\n",
    "                self.bn(\n",
    "                    self.conv_r(\n",
    "                        self.upsample(x)\n",
    "                    )\n",
    "                )\n",
    "            )\n",
    "        \n",
    "        return x\n",
    "\n",
    "\n",
    "\n",
    "class Encoder(nn.Module):\n",
    "    \n",
    "    def __init__(self, num_layers, original_input_size, non_linearity):\n",
    "        super(Encoder, self).__init__()\n",
    "        \n",
    "        self.non_linearity = non_linearity\n",
    "        \n",
    "        modules = []\n",
    "            \n",
    "        for i in range(1, num_layers + 1):\n",
    "            modules.append(ConvInverseBlock(i, original_input_size, non_linearity))\n",
    "        \n",
    "        self.conv = nn.Sequential(*modules)\n",
    "    \n",
    "    def forward(self, x):\n",
    "        x = self.conv(x)\n",
    "        \n",
    "        return x\n",
    "\n",
    "\n",
    "class Decoder(nn.Module):\n",
    "    def __init__(self, num_layers, non_linearity):\n",
    "        super(Decoder, self).__init__()\n",
    "        \n",
    "        self.non_linearity = non_linearity\n",
    "                \n",
    "        modules = []\n",
    "        \n",
    "        for i in range(1, num_layers + 1):\n",
    "            modules.append(ConvBlock(i, num_layers, self.non_linearity))\n",
    "        \n",
    "        self.conv_inv = nn.Sequential(*modules)\n",
    "    \n",
    "    def forward(self, x):\n",
    "        x = self.conv_inv(x)\n",
    "        \n",
    "        return x"
   ]
  },
  {
   "cell_type": "code",
   "execution_count": 7,
   "metadata": {},
   "outputs": [],
   "source": [
    "import torch.nn.functional as F\n",
    "\n",
    "model = nn.Sequential(\n",
    "    Encoder(5, 72, F.relu), \n",
    "    Decoder(5, F.relu), \n",
    ")"
   ]
  },
  {
   "cell_type": "code",
   "execution_count": 8,
   "metadata": {},
   "outputs": [
    {
     "data": {
      "text/plain": [
       "Sequential(\n",
       "  (0): Encoder(\n",
       "    (conv): Sequential(\n",
       "      (0): ConvInverseBlock(\n",
       "        (upsample): Upsample(size=78, mode=nearest)\n",
       "        (conv_r): Conv3d(1, 16, kernel_size=(5, 5, 5), stride=(1, 1, 1), padding=(1, 1, 1))\n",
       "        (bn): BatchNorm3d(16, eps=1e-05, momentum=0.1, affine=True, track_running_stats=True)\n",
       "      )\n",
       "      (1): ConvInverseBlock(\n",
       "        (upsample): Upsample(size=82, mode=nearest)\n",
       "        (conv_r): Conv3d(16, 16, kernel_size=(5, 5, 5), stride=(1, 1, 1), padding=(1, 1, 1))\n",
       "        (bn): BatchNorm3d(16, eps=1e-05, momentum=0.1, affine=True, track_running_stats=True)\n",
       "      )\n",
       "      (2): ConvInverseBlock(\n",
       "        (upsample): Upsample(size=86, mode=nearest)\n",
       "        (conv_r): Conv3d(16, 32, kernel_size=(5, 5, 5), stride=(1, 1, 1), padding=(1, 1, 1))\n",
       "        (bn): BatchNorm3d(32, eps=1e-05, momentum=0.1, affine=True, track_running_stats=True)\n",
       "      )\n",
       "      (3): ConvInverseBlock(\n",
       "        (upsample): Upsample(size=90, mode=nearest)\n",
       "        (conv_r): Conv3d(32, 32, kernel_size=(5, 5, 5), stride=(1, 1, 1), padding=(1, 1, 1))\n",
       "        (bn): BatchNorm3d(32, eps=1e-05, momentum=0.1, affine=True, track_running_stats=True)\n",
       "      )\n",
       "      (4): ConvInverseBlock(\n",
       "        (upsample): Upsample(size=94, mode=nearest)\n",
       "        (conv_r): Conv3d(32, 64, kernel_size=(5, 5, 5), stride=(1, 1, 1), padding=(1, 1, 1))\n",
       "        (bn): BatchNorm3d(64, eps=1e-05, momentum=0.1, affine=True, track_running_stats=True)\n",
       "      )\n",
       "    )\n",
       "  )\n",
       "  (1): Decoder(\n",
       "    (conv_inv): Sequential(\n",
       "      (0): ConvBlock(\n",
       "        (conv): Conv3d(64, 32, kernel_size=(5, 5, 5), stride=(1, 1, 1), padding=(1, 1, 1))\n",
       "        (bn): BatchNorm3d(32, eps=1e-05, momentum=0.1, affine=True, track_running_stats=True)\n",
       "        (maxpool): MaxPool3d(kernel_size=(3, 3, 3), stride=(1, 1, 1), padding=0, dilation=1, ceil_mode=False)\n",
       "      )\n",
       "      (1): ConvBlock(\n",
       "        (conv): Conv3d(32, 32, kernel_size=(5, 5, 5), stride=(1, 1, 1), padding=(1, 1, 1))\n",
       "        (bn): BatchNorm3d(32, eps=1e-05, momentum=0.1, affine=True, track_running_stats=True)\n",
       "        (maxpool): MaxPool3d(kernel_size=(3, 3, 3), stride=(1, 1, 1), padding=0, dilation=1, ceil_mode=False)\n",
       "      )\n",
       "      (2): ConvBlock(\n",
       "        (conv): Conv3d(32, 16, kernel_size=(5, 5, 5), stride=(1, 1, 1), padding=(1, 1, 1))\n",
       "        (bn): BatchNorm3d(16, eps=1e-05, momentum=0.1, affine=True, track_running_stats=True)\n",
       "        (maxpool): MaxPool3d(kernel_size=(3, 3, 3), stride=(1, 1, 1), padding=0, dilation=1, ceil_mode=False)\n",
       "      )\n",
       "      (3): ConvBlock(\n",
       "        (conv): Conv3d(16, 16, kernel_size=(5, 5, 5), stride=(1, 1, 1), padding=(1, 1, 1))\n",
       "        (bn): BatchNorm3d(16, eps=1e-05, momentum=0.1, affine=True, track_running_stats=True)\n",
       "        (maxpool): MaxPool3d(kernel_size=(3, 3, 3), stride=(1, 1, 1), padding=0, dilation=1, ceil_mode=False)\n",
       "      )\n",
       "      (4): ConvBlock(\n",
       "        (conv): Conv3d(16, 1, kernel_size=(5, 5, 5), stride=(1, 1, 1), padding=(1, 1, 1))\n",
       "        (bn): BatchNorm3d(1, eps=1e-05, momentum=0.1, affine=True, track_running_stats=True)\n",
       "        (maxpool): MaxPool3d(kernel_size=(3, 3, 3), stride=(1, 1, 1), padding=0, dilation=1, ceil_mode=False)\n",
       "      )\n",
       "    )\n",
       "  )\n",
       ")"
      ]
     },
     "execution_count": 8,
     "metadata": {},
     "output_type": "execute_result"
    }
   ],
   "source": [
    "model"
   ]
  },
  {
   "cell_type": "code",
   "execution_count": 9,
   "metadata": {},
   "outputs": [],
   "source": [
    "from torchsummary import summary"
   ]
  },
  {
   "cell_type": "code",
   "execution_count": 10,
   "metadata": {},
   "outputs": [],
   "source": [
    "device = torch.device(\"cuda\" if torch.cuda.is_available() else \"cpu\")"
   ]
  },
  {
   "cell_type": "code",
   "execution_count": 11,
   "metadata": {},
   "outputs": [
    {
     "name": "stdout",
     "output_type": "stream",
     "text": [
      "----------------------------------------------------------------\n",
      "        Layer (type)               Output Shape         Param #\n",
      "================================================================\n",
      "          Upsample-1        [-1, 1, 78, 78, 78]               0\n",
      "            Conv3d-2       [-1, 16, 76, 76, 76]           2,016\n",
      "       BatchNorm3d-3       [-1, 16, 76, 76, 76]              32\n",
      "  ConvInverseBlock-4       [-1, 16, 76, 76, 76]               0\n",
      "          Upsample-5       [-1, 16, 82, 82, 82]               0\n",
      "            Conv3d-6       [-1, 16, 80, 80, 80]          32,016\n",
      "       BatchNorm3d-7       [-1, 16, 80, 80, 80]              32\n",
      "  ConvInverseBlock-8       [-1, 16, 80, 80, 80]               0\n",
      "          Upsample-9       [-1, 16, 86, 86, 86]               0\n",
      "           Conv3d-10       [-1, 32, 84, 84, 84]          64,032\n",
      "      BatchNorm3d-11       [-1, 32, 84, 84, 84]              64\n",
      " ConvInverseBlock-12       [-1, 32, 84, 84, 84]               0\n",
      "         Upsample-13       [-1, 32, 90, 90, 90]               0\n",
      "           Conv3d-14       [-1, 32, 88, 88, 88]         128,032\n",
      "      BatchNorm3d-15       [-1, 32, 88, 88, 88]              64\n",
      " ConvInverseBlock-16       [-1, 32, 88, 88, 88]               0\n",
      "         Upsample-17       [-1, 32, 94, 94, 94]               0\n",
      "           Conv3d-18       [-1, 64, 92, 92, 92]         256,064\n",
      "      BatchNorm3d-19       [-1, 64, 92, 92, 92]             128\n",
      " ConvInverseBlock-20       [-1, 64, 92, 92, 92]               0\n",
      "          Encoder-21       [-1, 64, 92, 92, 92]               0\n",
      "           Conv3d-22       [-1, 32, 90, 90, 90]         256,032\n",
      "      BatchNorm3d-23       [-1, 32, 90, 90, 90]              64\n",
      "        MaxPool3d-24       [-1, 32, 88, 88, 88]               0\n",
      "        ConvBlock-25       [-1, 32, 88, 88, 88]               0\n",
      "           Conv3d-26       [-1, 32, 86, 86, 86]         128,032\n",
      "      BatchNorm3d-27       [-1, 32, 86, 86, 86]              64\n",
      "        MaxPool3d-28       [-1, 32, 84, 84, 84]               0\n",
      "        ConvBlock-29       [-1, 32, 84, 84, 84]               0\n",
      "           Conv3d-30       [-1, 16, 82, 82, 82]          64,016\n",
      "      BatchNorm3d-31       [-1, 16, 82, 82, 82]              32\n",
      "        MaxPool3d-32       [-1, 16, 80, 80, 80]               0\n",
      "        ConvBlock-33       [-1, 16, 80, 80, 80]               0\n",
      "           Conv3d-34       [-1, 16, 78, 78, 78]          32,016\n",
      "      BatchNorm3d-35       [-1, 16, 78, 78, 78]              32\n",
      "        MaxPool3d-36       [-1, 16, 76, 76, 76]               0\n",
      "        ConvBlock-37       [-1, 16, 76, 76, 76]               0\n",
      "           Conv3d-38        [-1, 1, 74, 74, 74]           2,001\n",
      "      BatchNorm3d-39        [-1, 1, 74, 74, 74]               2\n",
      "        MaxPool3d-40        [-1, 1, 72, 72, 72]               0\n",
      "        ConvBlock-41        [-1, 1, 72, 72, 72]               0\n",
      "          Decoder-42        [-1, 1, 72, 72, 72]               0\n",
      "================================================================\n",
      "Total params: 964,771\n",
      "Trainable params: 964,771\n",
      "Non-trainable params: 0\n",
      "----------------------------------------------------------------\n",
      "Input size (MB): 1.42\n",
      "Forward/backward pass size (MB): 5117.75\n",
      "Params size (MB): 3.68\n",
      "Estimated Total Size (MB): 5122.85\n",
      "----------------------------------------------------------------\n"
     ]
    }
   ],
   "source": [
    "summary(model.to(device), (1, 72, 72, 72))"
   ]
  },
  {
   "cell_type": "code",
   "execution_count": null,
   "metadata": {},
   "outputs": [],
   "source": []
  },
  {
   "cell_type": "code",
   "execution_count": null,
   "metadata": {},
   "outputs": [],
   "source": []
  }
 ],
 "metadata": {
  "kernelspec": {
   "display_name": "Python 3",
   "language": "python",
   "name": "python3"
  },
  "language_info": {
   "codemirror_mode": {
    "name": "ipython",
    "version": 3
   },
   "file_extension": ".py",
   "mimetype": "text/x-python",
   "name": "python",
   "nbconvert_exporter": "python",
   "pygments_lexer": "ipython3",
   "version": "3.8.5"
  }
 },
 "nbformat": 4,
 "nbformat_minor": 4
}
