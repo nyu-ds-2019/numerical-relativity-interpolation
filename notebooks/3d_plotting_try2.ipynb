{
 "cells": [
  {
   "cell_type": "code",
   "execution_count": null,
   "metadata": {},
   "outputs": [],
   "source": [
    "import h5py\n",
    "import numpy as np\n",
    "\n",
    "import pandas as pd\n",
    "import plotly.express as px\n",
    "import plotly.graph_objects as go"
   ]
  },
  {
   "cell_type": "code",
   "execution_count": null,
   "metadata": {},
   "outputs": [],
   "source": [
    "hf = h5py.File('/scratch/ns4486/numerical-relativity-interpolation/Proca_fiducial_scaled_cropped.hdf5', 'r')\n",
    "\n",
    "x = hf.get('Train').get('input')\n",
    "y = hf.get('Train').get('target')\n",
    "\n",
    "inputs = np.array(x)\n",
    "outputs = np.array(y)\n",
    "\n",
    "print(\"Shapes of inputs and outputs:\")\n",
    "print((inputs.shape, outputs.shape))\n",
    "print(\"Min, Mean, Max in inputs\")\n",
    "print((inputs.min(), inputs.mean(), inputs.max()))"
   ]
  },
  {
   "cell_type": "code",
   "execution_count": null,
   "metadata": {},
   "outputs": [],
   "source": [
    "cats = pd.qcut(inputs[:, 0].flatten(), q=10)"
   ]
  },
  {
   "cell_type": "code",
   "execution_count": null,
   "metadata": {},
   "outputs": [],
   "source": [
    "group_interval_values = []\n",
    "group = 1\n",
    "for interval in list(cats.categories):\n",
    "    group_interval_values.append([interval.left, interval.right, group])\n",
    "    group += 1"
   ]
  },
  {
   "cell_type": "code",
   "execution_count": null,
   "metadata": {},
   "outputs": [],
   "source": [
    "group_intervals_df = pd.DataFrame(group_interval_values, columns=['left', 'right', 'group'])\n",
    "group_intervals_df['color'] = px.colors.sequential.Viridis_r\n",
    "group_intervals_df"
   ]
  },
  {
   "cell_type": "code",
   "execution_count": null,
   "metadata": {},
   "outputs": [],
   "source": [
    "def estimate_group(x):\n",
    "    for index, row in group_intervals_df.iterrows():\n",
    "        if x > row.left and x <= row.right:\n",
    "            return row.group\n",
    "    if x <= group_intervals_df.iloc[0]['left']:\n",
    "        return 1\n",
    "    else:\n",
    "        return 10"
   ]
  },
  {
   "cell_type": "code",
   "execution_count": null,
   "metadata": {},
   "outputs": [],
   "source": [
    "def estimate_color(x):\n",
    "    for index, row in group_intervals_df.iterrows():\n",
    "        if x > row.left and x <= row.right:\n",
    "            hex_color = row.color.lstrip('#')\n",
    "            rgb = list(tuple(int(hex_color[i:i+2], 16) for i in (0, 2, 4)))\n",
    "            opacity = ((row.group - 1) * 0.1) + (0.1 * (x - row.left)/(row.right - row.left))\n",
    "            rgb.append(opacity)\n",
    "#             print(opacity, rgb)\n",
    "            rgb = 'rgba'+str(tuple(rgb))\n",
    "#             print(rgb)\n",
    "            return rgb\n",
    "    if x <= group_intervals_df.iloc[0]['left']:\n",
    "        hex_color = group_intervals_df.iloc[0].color.lstrip('#')\n",
    "        rgb = list(tuple(int(hex_color[i:i+2], 16) for i in (0, 2, 4)))\n",
    "        opacity = 0\n",
    "        rgb.append(opacity)\n",
    "        rgb = 'rgba'+str(tuple(rgb))\n",
    "        return rgb\n",
    "    else:\n",
    "        hex_color = group_intervals_df.iloc[-1].color.lstrip('#')\n",
    "        rgb = list(tuple(int(hex_color[i:i+2], 16) for i in (0, 2, 4)))\n",
    "        opacity = 1\n",
    "        rgb.append(opacity)\n",
    "        rgb = 'rgba'+str(tuple(rgb))\n",
    "        return rgb"
   ]
  },
  {
   "cell_type": "code",
   "execution_count": null,
   "metadata": {},
   "outputs": [],
   "source": [
    "location_value = []\n",
    "frame = 0\n",
    "index = 0\n",
    "\n",
    "for i in range(inputs[index, frame].shape[0]):\n",
    "    for j in range(inputs[index, frame].shape[1]):\n",
    "        for k in range(inputs[index, frame].shape[2]):\n",
    "            location_value.append([i, j, k, inputs[index, frame, i, j, k]])\n",
    "\n",
    "df = pd.DataFrame(data = location_value, columns=['x', 'y', 'z', 'value'])\n",
    "df"
   ]
  },
  {
   "cell_type": "code",
   "execution_count": null,
   "metadata": {},
   "outputs": [],
   "source": [
    "df['value'].apply(estimate_group)"
   ]
  },
  {
   "cell_type": "code",
   "execution_count": null,
   "metadata": {},
   "outputs": [],
   "source": [
    "df['color'] = df['value'].apply(estimate_color)\n",
    "df"
   ]
  },
  {
   "cell_type": "code",
   "execution_count": null,
   "metadata": {},
   "outputs": [],
   "source": [
    "fig = go.Figure()\n",
    "\n",
    "fig.add_trace(\n",
    "    go.Scatter3d(\n",
    "        mode='markers',\n",
    "        x=df['x'],\n",
    "        y=df['y'],\n",
    "        z=df['z'],\n",
    "        hovertext=df['value'],\n",
    "        marker=dict(\n",
    "            color=df['color']\n",
    "        )\n",
    "    )\n",
    ")\n",
    "camera = dict(\n",
    "    eye=dict(x=1.25, y=1.25, z=1.25)\n",
    ")\n",
    "\n",
    "fig.update_layout(scene_camera=camera)\n",
    "\n",
    "fig.show()"
   ]
  },
  {
   "cell_type": "code",
   "execution_count": 1,
   "metadata": {},
   "outputs": [
    {
     "ename": "NameError",
     "evalue": "name 'go' is not defined",
     "output_type": "error",
     "traceback": [
      "\u001b[0;31m---------------------------------------------------------------------------\u001b[0m",
      "\u001b[0;31mNameError\u001b[0m                                 Traceback (most recent call last)",
      "\u001b[0;32m<ipython-input-1-d67fe64f5b54>\u001b[0m in \u001b[0;36m<module>\u001b[0;34m\u001b[0m\n\u001b[0;32m----> 1\u001b[0;31m fig = go.Figure(data=go.Isosurface(\n\u001b[0m\u001b[1;32m      2\u001b[0m     \u001b[0mx\u001b[0m\u001b[0;34m=\u001b[0m\u001b[0mdf\u001b[0m\u001b[0;34m[\u001b[0m\u001b[0;34m'x'\u001b[0m\u001b[0;34m]\u001b[0m\u001b[0;34m.\u001b[0m\u001b[0mvalues\u001b[0m\u001b[0;34m,\u001b[0m\u001b[0;34m\u001b[0m\u001b[0;34m\u001b[0m\u001b[0m\n\u001b[1;32m      3\u001b[0m     \u001b[0my\u001b[0m\u001b[0;34m=\u001b[0m\u001b[0mdf\u001b[0m\u001b[0;34m[\u001b[0m\u001b[0;34m'y'\u001b[0m\u001b[0;34m]\u001b[0m\u001b[0;34m.\u001b[0m\u001b[0mvalues\u001b[0m\u001b[0;34m,\u001b[0m\u001b[0;34m\u001b[0m\u001b[0;34m\u001b[0m\u001b[0m\n\u001b[1;32m      4\u001b[0m     \u001b[0mz\u001b[0m\u001b[0;34m=\u001b[0m\u001b[0mdf\u001b[0m\u001b[0;34m[\u001b[0m\u001b[0;34m'x'\u001b[0m\u001b[0;34m]\u001b[0m\u001b[0;34m.\u001b[0m\u001b[0mvalues\u001b[0m\u001b[0;34m,\u001b[0m\u001b[0;34m\u001b[0m\u001b[0;34m\u001b[0m\u001b[0m\n\u001b[1;32m      5\u001b[0m     \u001b[0mvalue\u001b[0m\u001b[0;34m=\u001b[0m\u001b[0mdf\u001b[0m\u001b[0;34m[\u001b[0m\u001b[0;34m'value'\u001b[0m\u001b[0;34m]\u001b[0m\u001b[0;34m.\u001b[0m\u001b[0mvalues\u001b[0m\u001b[0;34m,\u001b[0m\u001b[0;34m\u001b[0m\u001b[0;34m\u001b[0m\u001b[0m\n",
      "\u001b[0;31mNameError\u001b[0m: name 'go' is not defined"
     ]
    }
   ],
   "source": [
    "fig = go.Figure(data=go.Isosurface(\n",
    "    x=df['x'].values,\n",
    "    y=df['y'].values,\n",
    "    z=df['x'].values,\n",
    "    value=df['value'].values,\n",
    "    isomin=0,\n",
    "    isomax=13,\n",
    "#     caps=dict(x_show=False, y_show=False)\n",
    "))\n",
    "\n",
    "fig.show()"
   ]
  },
  {
   "cell_type": "code",
   "execution_count": null,
   "metadata": {},
   "outputs": [],
   "source": [
    "fig = go.Figure(data=go.Volume(\n",
    "    x=df['x'].values,\n",
    "    y=df['y'].values,\n",
    "    z=df['z'].values,\n",
    "    value=df['value'].values,\n",
    "    isomin=0.01,\n",
    "    isomax=0.2,\n",
    "    opacity=0.1, # needs to be small to see through all surfaces\n",
    "    surface_count=17, # needs to be a large number for good volume rendering\n",
    "    ))\n",
    "fig.show()"
   ]
  },
  {
   "cell_type": "code",
   "execution_count": null,
   "metadata": {},
   "outputs": [],
   "source": []
  }
 ],
 "metadata": {
  "kernelspec": {
   "display_name": "Python 3",
   "language": "python",
   "name": "python3"
  },
  "language_info": {
   "codemirror_mode": {
    "name": "ipython",
    "version": 3
   },
   "file_extension": ".py",
   "mimetype": "text/x-python",
   "name": "python",
   "nbconvert_exporter": "python",
   "pygments_lexer": "ipython3",
   "version": "3.8.5"
  }
 },
 "nbformat": 4,
 "nbformat_minor": 4
}
