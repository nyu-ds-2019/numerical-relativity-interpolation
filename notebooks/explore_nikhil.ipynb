{
 "cells": [
  {
   "cell_type": "code",
   "execution_count": 20,
   "metadata": {},
   "outputs": [],
   "source": [
    "import h5py\n",
    "file = h5py.File('../data/Proca_fiducial_scaled_cropped.hdf5', 'r')"
   ]
  },
  {
   "cell_type": "code",
   "execution_count": 21,
   "metadata": {},
   "outputs": [
    {
     "data": {
      "text/plain": [
       "<KeysViewHDF5 ['Train']>"
      ]
     },
     "execution_count": 21,
     "metadata": {},
     "output_type": "execute_result"
    }
   ],
   "source": [
    "file.keys()"
   ]
  },
  {
   "cell_type": "code",
   "execution_count": 22,
   "metadata": {},
   "outputs": [
    {
     "data": {
      "text/plain": [
       "<KeysViewHDF5 ['input', 'target']>"
      ]
     },
     "execution_count": 22,
     "metadata": {},
     "output_type": "execute_result"
    }
   ],
   "source": [
    "file['Train'].keys()"
   ]
  },
  {
   "cell_type": "code",
   "execution_count": 23,
   "metadata": {},
   "outputs": [],
   "source": [
    "a = file['Train']['input']"
   ]
  },
  {
   "cell_type": "code",
   "execution_count": 24,
   "metadata": {
    "scrolled": true
   },
   "outputs": [
    {
     "data": {
      "text/plain": [
       "(407, 2, 72, 72, 72)"
      ]
     },
     "execution_count": 24,
     "metadata": {},
     "output_type": "execute_result"
    }
   ],
   "source": [
    "a.shape"
   ]
  },
  {
   "cell_type": "code",
   "execution_count": 14,
   "metadata": {},
   "outputs": [
    {
     "data": {
      "text/plain": [
       "(408, 72, 72)"
      ]
     },
     "execution_count": 14,
     "metadata": {},
     "output_type": "execute_result"
    }
   ],
   "source": [
    "import numpy as np\n",
    "\n",
    "x = np.array([[1, 2], [3, 4], [5, 6]])\n",
    "a_even = a[::2, 0, :, :, 0]\n",
    "np.repeat(a_even, [2], axis = 0).shape"
   ]
  },
  {
   "cell_type": "code",
   "execution_count": 25,
   "metadata": {},
   "outputs": [],
   "source": [
    "b = file['Train']['target']"
   ]
  },
  {
   "cell_type": "code",
   "execution_count": 26,
   "metadata": {},
   "outputs": [
    {
     "data": {
      "text/plain": [
       "(407, 1, 72, 72, 72)"
      ]
     },
     "execution_count": 26,
     "metadata": {},
     "output_type": "execute_result"
    }
   ],
   "source": [
    "b.shape"
   ]
  },
  {
   "cell_type": "code",
   "execution_count": 16,
   "metadata": {},
   "outputs": [
    {
     "data": {
      "text/plain": [
       "array([[1, 2, 5, 6],\n",
       "       [3, 4, 7, 8]])"
      ]
     },
     "execution_count": 16,
     "metadata": {},
     "output_type": "execute_result"
    }
   ],
   "source": [
    "x = np.array([[1, 2], [3, 4]])\n",
    "y = np.array([[5, 6], [7, 8]])\n",
    "np.concatenate((x, y), axis = 1)"
   ]
  },
  {
   "cell_type": "code",
   "execution_count": 33,
   "metadata": {},
   "outputs": [],
   "source": [
    "import numpy as np\n",
    "import cv2\n",
    "import os\n"
   ]
  },
  {
   "cell_type": "code",
   "execution_count": 8,
   "metadata": {},
   "outputs": [
    {
     "data": {
      "image/png": "[encoded data removed]",
      "text/plain": [
       "<PIL.Image.Image image mode=L size=72x72 at 0x7FF0315CD190>"
      ]
     },
     "execution_count": 8,
     "metadata": {},
     "output_type": "execute_result"
    }
   ],
   "source": [
    "from PIL import Image\n",
    "# %matplotlib inline\n",
    "\n",
    "\n",
    "b = np.array(a)\n",
    "c = b[0, 0, 0, :, :]\n",
    "\n",
    "img = Image.fromarray(c, 'L')\n",
    "img"
   ]
  },
  {
   "cell_type": "code",
   "execution_count": 9,
   "metadata": {},
   "outputs": [],
   "source": [
    "b = np.array(a)\n",
    "c = b[0, 1, 0, :, :]\n",
    "\n",
    "img = Image.fromarray(c, 'L').convert('RGB')\n",
    "img.show()"
   ]
  },
  {
   "cell_type": "code",
   "execution_count": 10,
   "metadata": {},
   "outputs": [],
   "source": [
    "b_marginal = b[:, 0, :, :, 0]\n",
    "b_norm = np.uint8(255 * (b_marginal - b_marginal.min()) / (b_marginal.max() - b_marginal.min()))"
   ]
  },
  {
   "cell_type": "code",
   "execution_count": 17,
   "metadata": {},
   "outputs": [
    {
     "data": {
      "text/plain": [
       "(407, 72, 72)"
      ]
     },
     "execution_count": 17,
     "metadata": {},
     "output_type": "execute_result"
    }
   ],
   "source": [
    "b_norm.shape"
   ]
  },
  {
   "cell_type": "code",
   "execution_count": 14,
   "metadata": {},
   "outputs": [],
   "source": [
    "all_array = []\n",
    "\n",
    "for i in range(407):\n",
    "#     all_array.append(np.array(Image.fromarray(b[i, 0, 0], 'L').convert('RGB')))\n",
    "    all_array.append(np.array(Image.fromarray(b_norm[i], 'L').convert('RGB')))"
   ]
  },
  {
   "cell_type": "code",
   "execution_count": 15,
   "metadata": {},
   "outputs": [],
   "source": [
    "out = cv2.VideoWriter(\n",
    "    '/Users/nikhilvs/repos/nyu/numerical-relativity-interpolation/notebooks/test_new.avi', \n",
    "    cv2.VideoWriter_fourcc(*'DIVX'), \n",
    "    10, \n",
    "    (72, 72)\n",
    ")\n",
    "\n",
    "for i in range(len(all_array)):\n",
    "    out.write(all_array[i])\n",
    "out.release()"
   ]
  },
  {
   "cell_type": "code",
   "execution_count": 13,
   "metadata": {},
   "outputs": [
    {
     "data": {
      "text/plain": [
       "(72, 72, 3)"
      ]
     },
     "execution_count": 13,
     "metadata": {},
     "output_type": "execute_result"
    }
   ],
   "source": [
    "all_array[0].shape"
   ]
  },
  {
   "cell_type": "code",
   "execution_count": 59,
   "metadata": {},
   "outputs": [
    {
     "data": {
      "text/plain": [
       "0.0"
      ]
     },
     "execution_count": 59,
     "metadata": {},
     "output_type": "execute_result"
    }
   ],
   "source": [
    "out.get(2209889)"
   ]
  },
  {
   "cell_type": "code",
   "execution_count": 40,
   "metadata": {},
   "outputs": [],
   "source": [
    "def generate_video_from_tensor(frame_tensor, save_path):\n",
    "    # shape of frame_tensor is (num_frames, spatial_x, spatial_y, spatial_z)\n",
    "\n",
    "    num_frames = frame_tensor.shape[0]\n",
    "\n",
    "    b_marginal = np.array(frame_tensor[:, :, :, 0])\n",
    "    b_norm = np.uint8(255 * (b_marginal - b_marginal.min()) / (b_marginal.max() - b_marginal.min()))\n",
    "\n",
    "    all_array = []\n",
    "\n",
    "    for i in range(num_frames):\n",
    "        all_array.append(np.array(Image.fromarray(b_norm[i], 'L').convert('RGB')))\n",
    "\n",
    "    out = cv2.VideoWriter(\n",
    "        # '/Users/nikhilvs/repos/nyu/numerical-relativity-interpolation/notebooks/test_new.avi', \n",
    "        save_path,\n",
    "        cv2.VideoWriter_fourcc(*'XVID'), \n",
    "        10, \n",
    "        (72, 72)\n",
    "    )\n",
    "\n",
    "    for i in range(len(all_array)):\n",
    "        out.write(all_array[i])\n",
    "    out.release()\n",
    "\n",
    "    return"
   ]
  },
  {
   "cell_type": "code",
   "execution_count": 41,
   "metadata": {},
   "outputs": [],
   "source": [
    "video_path = '/Users/nikhilvs/repos/nyu/numerical-relativity-interpolation/notebooks/test_new_2.mp4'\n",
    "\n",
    "generate_video_from_tensor(\n",
    "    a[:, 0, :, :, :],\n",
    "    video_path\n",
    ")"
   ]
  },
  {
   "cell_type": "code",
   "execution_count": 44,
   "metadata": {},
   "outputs": [
    {
     "data": {
      "text/html": [
       "<video controls  width=\"500\"  height=\"500\">\n",
       " <source src=\"data:video/mp4;base64,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\" type=\"video/mp4\">\n",
       " Your browser does not support the video tag.\n",
       " </video>"
      ],
      "text/plain": [
       "<IPython.core.display.Video object>"
      ]
     },
     "execution_count": 44,
     "metadata": {},
     "output_type": "execute_result"
    }
   ],
   "source": [
    "from IPython.display import Video\n",
    "\n",
    "Video(\n",
    "    video_path, \n",
    "    embed = True,\n",
    "    width = 500,\n",
    "    height = 500\n",
    ")"
   ]
  },
  {
   "cell_type": "code",
   "execution_count": 62,
   "metadata": {},
   "outputs": [],
   "source": [
    "import numpy as np\n",
    "import cv2\n",
    "import os\n",
    "from PIL import Image\n",
    "\n",
    "def transform_tensor_to_video_frames(frame_tensor):\n",
    "    # shape of frame_tensor is (num_frames, spatial_x, spatial_y)\n",
    "\n",
    "    num_frames = frame_tensor.shape[0]\n",
    "\n",
    "    b_marginal = np.array(frame_tensor)\n",
    "    b_norm = np.uint8(255 * (b_marginal - b_marginal.min()) / (b_marginal.max() - b_marginal.min()))\n",
    "\n",
    "    all_array = []\n",
    "\n",
    "    for i in range(num_frames):\n",
    "        all_array.append(np.array(Image.fromarray(b_norm[i], 'L').convert('RGB')))\n",
    "\n",
    "    return all_array\n",
    "\n",
    "\n",
    "\n",
    "def save_video(frame_list, save_path, video_shape):\n",
    "    out = cv2.VideoWriter(\n",
    "        save_path,\n",
    "        cv2.VideoWriter_fourcc(*'XVID'), \n",
    "        10, \n",
    "        video_shape\n",
    "    )\n",
    "\n",
    "    for i in range(len(frame_list)):\n",
    "        out.write(frame_list[i])\n",
    "    out.release()\n",
    "\n",
    "    return\n",
    "\n",
    "\n",
    "\n",
    "def generate_video_from_tensor(frame_tensor, save_path):\n",
    "    # shape of frame_tensor is (num_frames, spatial_x, spatial_y)\n",
    "\n",
    "    all_array = transform_tensor_to_video_frames(frame_tensor)\n",
    "    save_video(all_array, save_path, (72, 72))\n",
    "\n",
    "    return\n",
    "\n",
    "'''\n",
    "video_path = '/Users/nikhilvs/repos/nyu/numerical-relativity-interpolation/notebooks/test_new_2.mp4'\n",
    "\n",
    "generate_video_from_tensor(\n",
    "    a[:, 0, :, :, :],\n",
    "    video_path\n",
    ")\n",
    "\n",
    "\n",
    "from IPython.display import Video\n",
    "\n",
    "Video(\n",
    "    video_path, \n",
    "    embed = True,\n",
    "    width = 500,\n",
    "    height = 500\n",
    ")\n",
    "'''\n",
    "\n",
    "\n",
    "def generate_input_target_predicted_video(input_tensor, target, predicted, save_path):\n",
    "    # input shape is (num_frames, 2, spatial_x, spatial_y)\n",
    "    # target shape is (num_frames, 1, spatial_x, spatial_y)\n",
    "\n",
    "    # stutter video is even frames from input shape\n",
    "    # target video is all frames from target\n",
    "    # predicted video is all frames from predicted\n",
    "\n",
    "    input_even = input_tensor[::2, 0, :, :, 0]\n",
    "    input_repeated = np.repeat(input_even, [2], axis = 0)\n",
    "\n",
    "    input_video_frames = transform_tensor_to_video_frames(input_repeated)\n",
    "    target_video_frames = transform_tensor_to_video_frames(target[:, 0, :, :])\n",
    "    predicted_video_frames = transform_tensor_to_video_frames(predicted[:, 0, :, :])\n",
    "\n",
    "    all_video_frames = []\n",
    "\n",
    "    for i in range(len(input_video_np.shape)):\n",
    "        input_frame = input_video_frames[i]\n",
    "        target_frame = target_video_frames[i]\n",
    "        predicted_frame = predicted_video_frames[i]\n",
    "\n",
    "        video_frame = np.concatenate((input_frame, target_frame, predicted_frame), axis = 1)\n",
    "        all_video_frames.append(video_frame)\n",
    "    \n",
    "    save_video(all_video_frames, save_path, (72, 72 * 3))\n",
    "\n",
    "    return\n",
    "\n",
    "\n",
    "def generate_input_target_video(input_tensor, target, save_path):\n",
    "    # input shape is (num_frames, 2, spatial_x, spatial_y)\n",
    "    # target shape is (num_frames, 1, spatial_x, spatial_y)\n",
    "\n",
    "    # stutter video is even frames from input shape\n",
    "    # target video is all frames from target\n",
    "    # predicted video is all frames from predicted\n",
    "\n",
    "    input_even = input_tensor[::2, 0, :, :, 0]\n",
    "    input_repeated = np.repeat(input_even, [2], axis = 0)\n",
    "\n",
    "    input_video_frames = transform_tensor_to_video_frames(input_repeated)\n",
    "    target_video_frames = transform_tensor_to_video_frames(target[:, 0, :, :, 0])\n",
    "\n",
    "    all_video_frames = []\n",
    "    \n",
    "    num_frames = min(len(input_video_frames), len(target_video_frames))\n",
    "\n",
    "    for i in range(num_frames):\n",
    "        input_frame = input_video_frames[i]\n",
    "        target_frame = target_video_frames[i]\n",
    "\n",
    "        video_frame = np.concatenate((input_frame, target_frame), axis = 1)\n",
    "        all_video_frames.append(video_frame)\n",
    "    \n",
    "    save_video(all_video_frames, save_path, (72, 72 * 2))\n",
    "\n",
    "    return\n",
    "\n",
    "\n",
    "def generate_input_target_video_1(input_tensor, target, save_path):\n",
    "    # input shape is (num_frames, 2, spatial_x, spatial_y)\n",
    "    # target shape is (num_frames, 1, spatial_x, spatial_y)\n",
    "\n",
    "    # stutter video is even frames from input shape\n",
    "    # target video is all frames from target\n",
    "    # predicted video is all frames from predicted\n",
    "    \n",
    "    input_tensor = np.array(input_tensor)\n",
    "    target = np.array(target[:, 0, :, :, 0])\n",
    "\n",
    "    input_even = input_tensor[::2, 0, :, :, 0]\n",
    "    input_repeated = np.repeat(input_even, [2], axis = 0)\n",
    "\n",
    "    \n",
    "    num_frames = min(input_repeated.shape[0], target.shape[0])\n",
    "\n",
    "    print(\n",
    "        (input_repeated[:num_frames, :, :].shape, target[:num_frames, :, :].shape)\n",
    "    )\n",
    "    \n",
    "    video_np = np.concatenate(\n",
    "        (input_repeated[:num_frames, :, :], target[:num_frames, :, :]), \n",
    "        axis = 1\n",
    "    )\n",
    "    \n",
    "    all_video_frames = transform_tensor_to_video_frames(video_np)\n",
    "    save_video(all_video_frames, save_path, (72, 72*2))\n",
    "\n",
    "    return"
   ]
  },
  {
   "cell_type": "code",
   "execution_count": 63,
   "metadata": {},
   "outputs": [
    {
     "name": "stdout",
     "output_type": "stream",
     "text": [
      "((407, 72, 72), (407, 72, 72))\n"
     ]
    }
   ],
   "source": [
    "generate_input_target_video_1(\n",
    "    a, \n",
    "    b,\n",
    "    '/Users/nikhilvs/repos/nyu/numerical-relativity-interpolation/notebooks/test_new_3.mp4'\n",
    ")"
   ]
  },
  {
   "cell_type": "code",
   "execution_count": 46,
   "metadata": {},
   "outputs": [
    {
     "data": {
      "text/plain": [
       "(407, 144, 72)"
      ]
     },
     "execution_count": 46,
     "metadata": {},
     "output_type": "execute_result"
    }
   ],
   "source": [
    "np.concatenate((np.array(a[:, 0, :, :, 0]), np.array(b[:, 0, :, :, 0])), axis = 1).shape"
   ]
  },
  {
   "cell_type": "code",
   "execution_count": null,
   "metadata": {},
   "outputs": [],
   "source": []
  }
 ],
 "metadata": {
  "kernelspec": {
   "display_name": "Python 3.7.3 64-bit ('base': conda)",
   "language": "python",
   "name": "python37364bitbaseconda5256b649568d47b0ada5f4982042f9e1"
  },
  "language_info": {
   "codemirror_mode": {
    "name": "ipython",
    "version": 3
   },
   "file_extension": ".py",
   "mimetype": "text/x-python",
   "name": "python",
   "nbconvert_exporter": "python",
   "pygments_lexer": "ipython3",
   "version": "3.7.7"
  }
 },
 "nbformat": 4,
 "nbformat_minor": 4
}
