{
 "cells": [
  {
   "cell_type": "code",
   "execution_count": 1,
   "metadata": {},
   "outputs": [],
   "source": [
    "import h5py\n",
    "file = h5py.File('../data/Proca_fiducial_scaled_cropped.hdf5', 'r')"
   ]
  },
  {
   "cell_type": "code",
   "execution_count": 2,
   "metadata": {},
   "outputs": [
    {
     "data": {
      "text/plain": [
       "<KeysViewHDF5 ['Train']>"
      ]
     },
     "execution_count": 2,
     "metadata": {},
     "output_type": "execute_result"
    }
   ],
   "source": [
    "file.keys()"
   ]
  },
  {
   "cell_type": "code",
   "execution_count": 3,
   "metadata": {},
   "outputs": [
    {
     "data": {
      "text/plain": [
       "<KeysViewHDF5 ['input', 'target']>"
      ]
     },
     "execution_count": 3,
     "metadata": {},
     "output_type": "execute_result"
    }
   ],
   "source": [
    "file['Train'].keys()"
   ]
  },
  {
   "cell_type": "code",
   "execution_count": 4,
   "metadata": {},
   "outputs": [],
   "source": [
    "a = file['Train']['input']"
   ]
  },
  {
   "cell_type": "code",
   "execution_count": 5,
   "metadata": {},
   "outputs": [
    {
     "data": {
      "text/plain": [
       "(407, 2, 72, 72, 72)"
      ]
     },
     "execution_count": 5,
     "metadata": {},
     "output_type": "execute_result"
    }
   ],
   "source": [
    "a.shape"
   ]
  },
  {
   "cell_type": "code",
   "execution_count": 6,
   "metadata": {},
   "outputs": [
    {
     "data": {
      "text/plain": [
       "(407, 1, 72, 72, 72)"
      ]
     },
     "execution_count": 6,
     "metadata": {},
     "output_type": "execute_result"
    }
   ],
   "source": [
    "file['Train']['target'].shape"
   ]
  },
  {
   "cell_type": "code",
   "execution_count": 9,
   "metadata": {},
   "outputs": [],
   "source": [
    "import numpy as np\n",
    "import cv2\n",
    "import os\n"
   ]
  },
  {
   "cell_type": "code",
   "execution_count": 10,
   "metadata": {},
   "outputs": [
    {
     "data": {
      "image/png": "[encoded data removed]",
      "text/plain": [
       "<PIL.Image.Image image mode=L size=72x72 at 0x7F8DFE00C890>"
      ]
     },
     "execution_count": 10,
     "metadata": {},
     "output_type": "execute_result"
    }
   ],
   "source": [
    "from PIL import Image\n",
    "# %matplotlib inline\n",
    "\n",
    "\n",
    "b = np.array(a)\n",
    "c = b[0, 0, 0, :, :]\n",
    "\n",
    "img = Image.fromarray(c, 'L')\n",
    "img"
   ]
  },
  {
   "cell_type": "code",
   "execution_count": 11,
   "metadata": {},
   "outputs": [],
   "source": [
    "b = np.array(a)\n",
    "c = b[0, 1, 0, :, :]\n",
    "\n",
    "img = Image.fromarray(c, 'L').convert('RGB')\n",
    "img.show()"
   ]
  },
  {
   "cell_type": "code",
   "execution_count": 81,
   "metadata": {},
   "outputs": [],
   "source": [
    "b_marginal = b[:, 0, :, :, 0]\n",
    "b_norm = np.uint8(255 * (b_marginal - b_marginal.min()) / (b_marginal.max() - b_marginal.min()))"
   ]
  },
  {
   "cell_type": "code",
   "execution_count": 85,
   "metadata": {},
   "outputs": [
    {
     "data": {
      "text/plain": [
       "array([[[ 0,  0,  0, ...,  0,  0,  0],\n",
       "        [ 0,  0,  0, ...,  0,  0,  0],\n",
       "        [ 0,  0,  0, ...,  0,  0,  0],\n",
       "        ...,\n",
       "        [ 0,  0,  0, ...,  0,  0,  0],\n",
       "        [ 0,  0,  0, ...,  0,  0,  0],\n",
       "        [ 0,  0,  0, ...,  0,  0,  0]],\n",
       "\n",
       "       [[ 1,  1,  1, ...,  0,  0,  0],\n",
       "        [ 1,  1,  1, ...,  0,  0,  0],\n",
       "        [ 1,  1,  1, ...,  0,  0,  0],\n",
       "        ...,\n",
       "        [ 0,  0,  0, ...,  1,  1,  1],\n",
       "        [ 0,  0,  0, ...,  1,  1,  1],\n",
       "        [ 0,  0,  0, ...,  1,  1,  1]],\n",
       "\n",
       "       [[ 8,  9, 10, ...,  6,  5,  4],\n",
       "        [ 9, 10, 11, ...,  8,  6,  5],\n",
       "        [10, 11, 12, ..., 10,  8,  6],\n",
       "        ...,\n",
       "        [ 6,  8, 10, ..., 12, 11, 10],\n",
       "        [ 5,  6,  8, ..., 11, 10,  9],\n",
       "        [ 4,  5,  6, ..., 10,  9,  8]],\n",
       "\n",
       "       ...,\n",
       "\n",
       "       [[25, 27, 28, ..., 21, 19, 18],\n",
       "        [27, 28, 30, ..., 22, 21, 19],\n",
       "        [28, 30, 31, ..., 23, 22, 21],\n",
       "        ...,\n",
       "        [21, 22, 23, ..., 31, 30, 28],\n",
       "        [19, 21, 22, ..., 30, 28, 27],\n",
       "        [18, 19, 21, ..., 28, 27, 25]],\n",
       "\n",
       "       [[26, 28, 29, ..., 22, 21, 20],\n",
       "        [27, 29, 31, ..., 24, 22, 21],\n",
       "        [29, 30, 32, ..., 25, 24, 22],\n",
       "        ...,\n",
       "        [22, 24, 25, ..., 32, 30, 29],\n",
       "        [21, 22, 24, ..., 31, 29, 27],\n",
       "        [20, 21, 22, ..., 29, 28, 26]],\n",
       "\n",
       "       [[26, 28, 29, ..., 25, 24, 23],\n",
       "        [27, 29, 30, ..., 26, 25, 24],\n",
       "        [29, 30, 32, ..., 28, 26, 25],\n",
       "        ...,\n",
       "        [25, 26, 28, ..., 32, 30, 29],\n",
       "        [24, 25, 26, ..., 30, 29, 27],\n",
       "        [23, 24, 25, ..., 29, 28, 26]]], dtype=uint8)"
      ]
     },
     "execution_count": 85,
     "metadata": {},
     "output_type": "execute_result"
    }
   ],
   "source": [
    "b_norm"
   ]
  },
  {
   "cell_type": "code",
   "execution_count": 86,
   "metadata": {},
   "outputs": [],
   "source": [
    "all_array = []\n",
    "\n",
    "for i in range(407):\n",
    "    all_array.append(np.array(Image.fromarray(b[i, 0, 0], 'L').convert('RGB')))\n",
    "#     all_array.append(np.array(Image.fromarray(b_norm[i], 'L').convert('RGB')))"
   ]
  },
  {
   "cell_type": "code",
   "execution_count": 87,
   "metadata": {},
   "outputs": [],
   "source": [
    "out = cv2.VideoWriter(\n",
    "    '/Users/nikhilvs/repos/nyu/numerical-relativity-interpolation/notebooks/test.avi', \n",
    "    cv2.VideoWriter_fourcc(*'DIVX'), \n",
    "    10, \n",
    "    (72, 72)\n",
    ")\n",
    "\n",
    "for i in range(len(all_array)):\n",
    "    out.write(all_array[i])\n",
    "out.release()"
   ]
  },
  {
   "cell_type": "code",
   "execution_count": 76,
   "metadata": {},
   "outputs": [
    {
     "data": {
      "text/plain": [
       "(72, 72, 3)"
      ]
     },
     "execution_count": 76,
     "metadata": {},
     "output_type": "execute_result"
    }
   ],
   "source": [
    "all_array[0].shape"
   ]
  },
  {
   "cell_type": "code",
   "execution_count": 59,
   "metadata": {},
   "outputs": [
    {
     "data": {
      "text/plain": [
       "0.0"
      ]
     },
     "execution_count": 59,
     "metadata": {},
     "output_type": "execute_result"
    }
   ],
   "source": [
    "out.get(2209889)"
   ]
  },
  {
   "cell_type": "code",
   "execution_count": null,
   "metadata": {},
   "outputs": [],
   "source": []
  }
 ],
 "metadata": {
  "kernelspec": {
   "display_name": "Python 3.7.3 64-bit ('base': conda)",
   "language": "python",
   "name": "python37364bitbaseconda5256b649568d47b0ada5f4982042f9e1"
  },
  "language_info": {
   "codemirror_mode": {
    "name": "ipython",
    "version": 3
   },
   "file_extension": ".py",
   "mimetype": "text/x-python",
   "name": "python",
   "nbconvert_exporter": "python",
   "pygments_lexer": "ipython3",
   "version": "3.7.7"
  }
 },
 "nbformat": 4,
 "nbformat_minor": 4
}
